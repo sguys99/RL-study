{
 "cells": [
  {
   "attachments": {},
   "cell_type": "markdown",
   "metadata": {},
   "source": [
    "## 2. 강화학습 문제의 모형화"
   ]
  },
  {
   "attachments": {},
   "cell_type": "markdown",
   "metadata": {},
   "source": [
    "<div style=\"text-align: right\"> <b>Kwang Myung Yu</b></div>\n",
    "<div style=\"text-align: right\"> Initial issue : 2023.06.29 </div>\n",
    "<div style=\"text-align: right\"> last update : 2023.06.29 </div>"
   ]
  },
  {
   "cell_type": "code",
   "execution_count": 1,
   "metadata": {},
   "outputs": [],
   "source": [
    "import os\n",
    "import sys\n",
    "import time\n",
    "import numpy as np\n",
    "import pandas as pd\n",
    "import matplotlib as mpl\n",
    "import matplotlib.pyplot as plt\n",
    "import matplotlib.gridspec as gridspec\n",
    "import seaborn as sns\n",
    "import warnings; warnings.filterwarnings('ignore')\n",
    "#plt.style.use('ggplot')\n",
    "plt.style.use('seaborn-whitegrid')\n",
    "%matplotlib inline\n",
    "\n",
    "# Options for pandas\n",
    "pd.options.display.max_columns = 200\n",
    "pd.options.display.max_rows = 100"
   ]
  },
  {
   "attachments": {},
   "cell_type": "markdown",
   "metadata": {},
   "source": [
    "### 2.2 one-armed bandit, 슬롯머신 문제"
   ]
  },
  {
   "attachments": {},
   "cell_type": "markdown",
   "metadata": {},
   "source": [
    "한 시행에서 에이전트는 n개의 슬로머신 중 하나를 선택해서 레버를 당긴다.   \n",
    "한 시행에서 에이전트가 할수 있는 총 동작은 n가지이다.   \n",
    "이러한 시행을 k번 반복한다.\n",
    "k번째 시행의 액션 a로 부터 보상 $R_k$f를 받는다."
   ]
  },
  {
   "attachments": {},
   "cell_type": "markdown",
   "metadata": {},
   "source": [
    "이 문제를 푸는 전략은 처음 몇번동안 서로 다른 레버를 당겨서 리워드를 관찰하는것이다.  \n",
    "그 다음 관찰된 보상이 가장 큰 레버를 계속 당기는 것이다.   \n",
    "\n",
    "이 전략을 위해서 이전 시행들에 기초한 특정 액션의 기대 보상, expected reward라는 개념이 필요하다. k번째 시행에서 액션 a의 기대 보상을 수식으로 $Q_k(a)$라고 표기한다.   \n",
    "즉 기대 보상은 액션의 함수이며, 이 함수는 액션을 주어진 액션을 취했을 때 기대할 수있는 리워드의 양을 돌려준다."
   ]
  },
  {
   "cell_type": "code",
   "execution_count": 2,
   "metadata": {},
   "outputs": [],
   "source": [
    "def exp_reward(action, history):\n",
    "    rewards_for_action = history[action]\n",
    "    return sum(rewards_for_action) / len(rewards_for_action)"
   ]
  },
  {
   "attachments": {},
   "cell_type": "markdown",
   "metadata": {},
   "source": [
    "- 즉 k번째 시행에서 액션 a의 기대 보상은 그때까지 a의 모든 리워드의 산술 평균이다.   \n",
    "- 따라서 이전 액션들과 관찰은 이후 액션에 영향을 미친다. 이를 이전 동작들이 현재 동작과 미래 동작들을 강화한다고 말할 수 있다.  \n",
    "- $Q_k(a)$를 뭔가 가치를 말해준다는 점에서 동작 가치함수(action value function)라고 부른다."
   ]
  },
  {
   "attachments": {},
   "cell_type": "markdown",
   "metadata": {},
   "source": [
    "기대 보상에 근거해서 최선의 동작을 찾는 코드"
   ]
  },
  {
   "cell_type": "code",
   "execution_count": 3,
   "metadata": {},
   "outputs": [],
   "source": [
    "def get_best_action(actions):\n",
    "    best_action = 0\n",
    "    max_action_value = 0\n",
    "    for i in range(len(actions)):\n",
    "        cur_action_value = get_action_value(actions[i])\n",
    "        if cur_action_value > max_action_value:\n",
    "            best_action = i\n",
    "            max_action_value = cur_action_value\n",
    "            \n",
    "    return best_action"
   ]
  },
  {
   "attachments": {},
   "cell_type": "markdown",
   "metadata": {},
   "source": [
    "- 위 방식을 사용하면 아직 시도한 적없는 어쩌면 기대 보상이 더 큰 레버를 선택하는 일은 없다. \n",
    "- 이처럼 지금까지의 경험에만 근거해 최선의 것을 선택하는 접근 방식을 greedy method라고 한다."
   ]
  },
  {
   "attachments": {},
   "cell_type": "markdown",
   "metadata": {},
   "source": [
    "최선의 동작을 발견하려면 입실론 확률로 무작위 동작을 하고, 1- 입실론 확률로 탐욕법을 적용한다."
   ]
  },
  {
   "cell_type": "code",
   "execution_count": 4,
   "metadata": {},
   "outputs": [],
   "source": [
    "n = 10\n",
    "probs = np.random.rand(n)\n",
    "eps = 0.1"
   ]
  },
  {
   "attachments": {},
   "cell_type": "markdown",
   "metadata": {},
   "source": [
    "카지노 슬롯 머신이 10가정하자. \n",
    "위에서 n = 10으로 설정함.   \n",
    "\n",
    "여기서는 랜덤변수를 구해서 그것이 슬롯 머신의 확률보다 작으면 리워드에 1을 더하는 과정을 반복한다.  "
   ]
  },
  {
   "cell_type": "code",
   "execution_count": 5,
   "metadata": {},
   "outputs": [],
   "source": [
    "import random\n",
    "\n",
    "def get_reward(prob, n = 10):\n",
    "    reward = 0\n",
    "    for i in range(n):\n",
    "        if random.random() < prob:\n",
    "            reward += 1\n",
    "    return reward"
   ]
  },
  {
   "attachments": {},
   "cell_type": "markdown",
   "metadata": {},
   "source": [
    "예를 들어 슬롯 머신의 확률이 0.7이라고 하자.  \n",
    "첫번째 루프에서 랜덤 변수가 0.4가 나왔다면 리워드 1을 더하는 방식이다.   \n",
    "\n",
    "만약 리워드 받는 행위를 여러번 반복하면 평균 보상이 7에 가깝게 된다."
   ]
  },
  {
   "cell_type": "code",
   "execution_count": 6,
   "metadata": {},
   "outputs": [
    {
     "name": "stdout",
     "output_type": "stream",
     "text": [
      "[7, 6, 6, 7, 8, 6, 8, 8, 9, 7, 8, 7, 6, 6, 4, 6, 8, 5, 4, 7, 7, 7, 9, 6, 6, 9, 4, 7, 6, 8, 8, 6, 8, 9, 4, 4, 4, 6, 6, 9, 5, 7, 6, 7, 8, 9, 7, 8, 6, 8, 3, 8, 8, 7, 8, 8, 9, 9, 7, 9, 7, 9, 6, 8, 8, 8, 6, 7, 7, 7, 6, 6, 7, 9, 6, 7, 6, 4, 8, 7, 7, 7, 6, 8, 8, 7, 7, 5, 6, 8, 7, 6, 8, 7, 7, 9, 7, 6, 8, 10, 9, 6, 5, 9, 8, 6, 3, 8, 7, 5, 8, 2, 8, 9, 10, 6, 8, 8, 6, 7, 7, 8, 9, 10, 8, 8, 8, 7, 6, 5, 7, 7, 9, 8, 6, 5, 7, 6, 6, 8, 3, 7, 7, 5, 6, 7, 6, 8, 8, 6, 9, 8, 6, 9, 4, 5, 7, 6, 9, 4, 6, 8, 9, 6, 7, 3, 6, 9, 7, 8, 6, 6, 9, 5, 7, 5, 9, 6, 9, 7, 8, 7, 7, 7, 5, 5, 7, 8, 6, 7, 8, 5, 7, 4, 6, 6, 3, 5, 5, 9, 8, 8, 7, 8, 4, 6, 6, 9, 8, 10, 7, 9, 7, 7, 5, 5, 9, 7, 6, 7, 7, 8, 7, 7, 9, 8, 5, 8, 5, 9, 6, 7, 6, 9, 9, 5, 8, 8, 6, 4, 8, 7, 6, 7, 9, 8, 7, 8, 9, 9, 9, 6, 5, 5, 8, 5, 9, 6, 8, 9, 9, 8, 7, 9, 7, 5, 7, 8, 8, 9, 7, 9, 6, 7, 9, 8, 6, 8, 8, 5, 6, 6, 8, 9, 9, 7, 8, 7, 8, 10, 6, 7, 6, 7, 4, 6, 6, 7, 7, 7, 7, 6, 8, 6, 6, 6, 5, 8, 8, 7, 7, 7, 7, 6, 6, 8, 7, 9, 7, 10, 6, 6, 7, 6, 8, 7, 5, 6, 7, 9, 10, 5, 5, 7, 9, 5, 5, 7, 8, 6, 7, 7, 9, 6, 8, 7, 4, 5, 8, 9, 7, 9, 6, 6, 8, 7, 8, 9, 6, 5, 6, 9, 4, 6, 8, 9, 5, 9, 6, 6, 8, 5, 8, 6, 6, 6, 6, 9, 8, 8, 7, 6, 7, 8, 7, 6, 6, 6, 7, 5, 8, 7, 8, 6, 6, 6, 7, 7, 6, 7, 9, 9, 8, 8, 6, 9, 6, 7, 5, 8, 6, 9, 5, 7, 6, 4, 8, 7, 7, 7, 7, 6, 8, 6, 6, 5, 7, 7, 6, 7, 9, 8, 7, 7, 8, 5, 6, 8, 7, 9, 9, 8, 8, 5, 7, 5, 9, 6, 7, 7, 7, 7, 6, 6, 7, 8, 9, 7, 7, 7, 5, 7, 8, 7, 8, 8, 7, 7, 5, 9, 5, 7, 4, 5, 7, 8, 5, 4, 3, 9, 7, 9, 5, 6, 8, 7, 6, 9, 6, 6, 8, 8, 4, 8, 6, 8, 7, 7, 10, 7, 6, 8, 6, 5, 7, 8, 6, 7, 7, 5, 8, 8, 8, 7, 7, 6, 8, 6, 5, 9, 7, 8, 8, 5, 7, 7, 7, 6, 6, 6, 5, 8, 4, 8, 7, 9, 8, 6, 4, 7, 8, 4, 7, 7, 9, 4, 7, 5, 8, 9, 6, 6, 6, 5, 5, 7, 7, 10, 8, 9, 9, 4, 7, 5, 8, 7, 6, 8, 10, 8, 9, 7, 6, 8, 6, 6, 7, 8, 7, 7, 7, 7, 6, 9, 5, 4, 6, 5, 8, 5, 5, 7, 8, 7, 2, 6, 6, 4, 6, 8, 8, 8, 7, 5, 8, 8, 7, 7, 7, 8, 9, 6, 7, 7, 5, 4, 9, 7, 7, 8, 6, 8, 6, 9, 6, 8, 8, 6, 7, 9, 8, 9, 6, 7, 7, 7, 6, 5, 6, 6, 8, 7, 6, 8, 7, 6, 5, 7, 4, 5, 7, 8, 8, 7, 10, 9, 9, 5, 8, 6, 9, 7, 8, 6, 9, 8, 6, 4, 6, 5, 7, 7, 7, 7, 8, 6, 7, 7, 6, 7, 6, 5, 9, 7, 6, 8, 8, 5, 6, 5, 7, 9, 9, 8, 7, 9, 7, 5, 6, 9, 3, 8, 9, 7, 5, 8, 6, 7, 6, 9, 7, 7, 7, 6, 4, 8, 4, 7, 7, 6, 7, 10, 7, 4, 5, 9, 9, 7, 8, 6, 6, 9, 7, 8, 6, 9, 1, 10, 5, 8, 8, 7, 7, 8, 5, 8, 9, 4, 9, 7, 7, 7, 9, 8, 5, 5, 10, 5, 6, 9, 9, 10, 8, 9, 6, 7, 7, 9, 7, 6, 8, 7, 9, 9, 9, 8, 9, 8, 10, 7, 7, 6, 7, 6, 6, 7, 7, 7, 6, 8, 6, 8, 8, 8, 4, 6, 8, 7, 5, 9, 7, 4, 6, 9, 7, 6, 7, 7, 7, 5, 7, 9, 6, 6, 6, 8, 6, 6, 6, 10, 7, 7, 7, 6, 8, 8, 4, 10, 6, 9, 8, 7, 5, 6, 8, 6, 6, 7, 6, 7, 10, 6, 5, 3, 8, 8, 8, 7, 8, 6, 7, 3, 6, 7, 8, 7, 7, 6, 9, 7, 6, 5, 8, 8, 9, 3, 6, 4, 9, 6, 8, 8, 10, 6, 9, 8, 8, 5, 6, 6, 6, 9, 7, 8, 7, 7, 6, 8, 5, 8, 9, 6, 8, 4, 7, 8, 8, 8, 7, 6, 7, 9, 5, 9, 7, 7, 8, 9, 7, 5, 7, 5, 7, 7, 7, 5, 6, 9, 7, 8, 7, 7, 7, 5, 7, 9, 7, 9, 8, 7, 9, 9, 9, 6, 7, 8, 5, 8, 7, 8, 7, 8, 5, 5, 6, 7, 8, 8, 9, 8, 7, 7, 7, 7, 8, 7, 9, 6, 8, 6, 9, 10, 6, 7, 8, 9, 5, 8, 5, 7, 9, 6, 9, 8, 7, 9, 7, 9, 6, 5, 5, 5, 8, 6, 7, 8, 7, 9, 4, 9, 10, 6, 8, 6, 8, 7, 4, 8, 5, 6, 5, 9, 7, 7, 9, 7, 6, 9, 8, 6, 6, 6, 7, 8, 7, 7, 7, 7, 9, 7, 7, 8, 5, 7, 5, 7, 10, 5, 7, 5, 9, 5, 9, 7, 7, 7, 6, 8, 7, 9, 8, 7, 6, 10, 9, 9, 7, 9, 7, 7, 6, 9, 6, 5, 5, 8, 6, 5, 5, 6, 5, 6, 8, 7, 6, 5, 8, 7, 8, 9, 5, 8, 9, 6, 8, 7, 5, 5, 8, 8, 5, 8, 9, 8, 6, 6, 8, 8, 7, 8, 9, 7, 7, 9, 8, 7, 8, 7, 8, 6, 8, 9, 8, 9, 6, 6, 7, 8, 9, 5, 7, 9, 8, 6, 5, 7, 8, 7, 5, 10, 7, 6, 6, 5, 8, 5, 5, 7, 9, 8, 7, 6, 4, 9, 6, 6, 7, 6, 7, 8, 8, 8, 5, 8, 6, 5, 8, 7, 3, 9, 7, 9, 9, 7, 6, 7, 9, 7, 4, 6, 8, 9, 7, 5, 9, 5, 7, 6, 7, 4, 8, 7, 8, 4, 7, 6, 7, 9, 6, 6, 8, 7, 8, 8, 9, 9, 7, 7, 7, 8, 10, 9, 8, 9, 8, 10, 8, 8, 5, 6, 8, 8, 6, 7, 8, 7, 5, 10, 6, 7, 5, 8, 7, 7, 8, 6, 7, 8, 6, 9, 9, 5, 9, 9, 7, 5, 7, 5, 6, 5, 8, 5, 8, 7, 8, 7, 8, 8, 8, 5, 7, 8, 7, 8, 8, 6, 7, 6, 5, 5, 7, 5, 7, 6, 9, 8, 10, 7, 6, 6, 8, 7, 7, 8, 9, 10, 7, 8, 6, 9, 7, 6, 7, 3, 5, 5, 10, 9, 8, 6, 5, 7, 7, 8, 8, 5, 8, 5, 8, 8, 7, 9, 7, 8, 9, 8, 5, 9, 6, 7, 7, 8, 5, 10, 6, 5, 7, 6, 6, 7, 7, 8, 8, 7, 8, 7, 5, 7, 8, 9, 8, 7, 7, 7, 8, 7, 6, 7, 4, 6, 6, 5, 6, 8, 5, 5, 6, 6, 7, 7, 4, 9, 5, 7, 8, 6, 7, 6, 6, 8, 6, 7, 7, 7, 4, 6, 7, 8, 7, 9, 7, 8, 9, 7, 6, 7, 7, 8, 5, 9, 6, 4, 8, 4, 8, 7, 6, 6, 9, 7, 8, 8, 8, 7, 8, 8, 5, 6, 7, 8, 9, 8, 7, 5, 7, 8, 5, 9, 8, 5, 7, 9, 8, 5, 6, 5, 6, 6, 7, 9, 9, 8, 9, 8, 7, 8, 7, 10, 7, 9, 5, 10, 6, 9, 6, 9, 7, 6, 7, 9, 9, 7, 7, 8, 8, 6, 6, 8, 4, 7, 7, 8, 9, 8, 7, 8, 8, 8, 7, 8, 8, 9, 5, 7, 8, 10, 9, 8, 7, 7, 9, 8, 6, 10, 7, 8, 5, 7, 8, 7, 4, 5, 5, 7, 7, 9, 8, 9, 8, 7, 4, 10, 8, 6, 8, 8, 8, 9, 6, 6, 7, 8, 7, 6, 7, 6, 6, 9, 7, 8, 5, 9, 8, 6, 7, 7, 8, 8, 8, 8, 7, 7, 6, 9, 7, 10, 8, 7, 9, 6, 7, 7, 8, 6, 6, 8, 7, 7, 8, 6, 9, 7, 9, 8, 7, 7, 9, 5, 8, 5, 7, 9, 6, 7, 8, 6, 8, 7, 8, 7, 7, 9, 9, 7, 8, 6, 6, 7, 7, 7, 8, 8, 5, 6, 6, 6, 9, 7, 3, 6, 7, 5, 6, 9, 6, 5, 6, 8, 8, 7, 8, 7, 6, 5, 6, 6, 7, 9, 9, 8, 6, 7, 7, 7, 9, 8, 7, 6, 9, 7, 8, 7, 6, 5, 7, 10, 7, 6, 6, 10, 10, 7, 5, 8, 6, 6, 7, 7, 9, 7, 5, 8, 7, 4, 5, 7, 5, 7, 7, 8, 7, 6, 8, 9, 6, 7, 8, 7, 8, 9, 5, 8, 8, 7, 7, 5, 8, 6, 6, 6, 9, 7, 7, 6, 6, 7, 6, 5, 9, 4, 5, 6, 8, 7, 7, 6, 8, 6, 8, 7, 5, 6, 6, 5, 6, 7, 7, 10, 6, 8, 4, 8, 9, 7, 6, 7, 8, 7, 4, 7, 5, 7, 8, 6, 9, 9, 7, 7, 6, 6, 3, 5, 8, 8, 6, 8, 7, 6, 7, 7, 6, 8, 9, 6, 9, 10, 9, 7, 7, 8, 8, 7, 8, 8, 8, 8, 7, 6, 8, 7, 9, 9, 7, 9, 8, 9, 7, 7, 6, 8, 7, 8, 6, 6, 6, 9, 4, 6, 7, 8, 8, 2, 8, 7, 6, 5, 9, 5, 6, 6, 7, 8, 7, 7, 6, 6, 8, 7, 8, 4, 5, 5, 8, 6, 4, 9, 7, 8, 10, 8, 5, 9, 7, 5, 7, 6, 9, 6, 7, 4, 5, 8, 8, 6, 8, 9, 7, 4, 10, 8, 5, 7, 8, 8, 7, 9, 7, 7, 4, 9, 7, 4, 7, 10, 7, 9, 7, 7, 6, 5, 6, 7, 6, 6, 8, 8, 6, 8, 8, 6, 9, 6, 7, 6, 6, 8, 8, 9, 8, 8, 6, 6, 6, 5, 5, 7, 10, 7, 7, 10, 5, 7, 7, 8, 7, 7, 7, 8, 5, 5, 8, 7, 6, 7, 10, 10, 8, 8, 7, 8, 7, 6, 6, 6, 6, 6, 6, 6, 9, 6, 5, 6, 8, 4, 6, 7, 7, 10, 6, 7, 5, 7, 8, 7, 7, 7, 4, 8, 9, 7, 6, 7, 2, 8, 8, 5, 9, 9, 8, 6, 6, 9, 5, 8, 7, 9, 7, 8, 7, 7, 8, 8, 4, 9, 5, 8, 4, 3, 6, 7, 6, 6, 10, 7, 8, 4, 10, 10, 8, 8, 7, 7, 7, 8, 8, 7, 7, 7, 7, 7, 7, 7, 7, 8, 7, 5, 6, 6, 6, 6, 8, 7, 9, 7, 7, 8, 6, 7, 8, 7, 8, 7, 5, 9, 6, 7, 8, 7, 7, 6, 9, 4, 5, 4, 6, 9, 8, 8, 6, 7, 7, 8, 8, 6, 7, 6, 8, 5, 7, 6]\n"
     ]
    }
   ],
   "source": [
    "reward_test = [get_reward(0.7) for _ in range(2000)]\n",
    "print(reward_test)"
   ]
  },
  {
   "cell_type": "code",
   "execution_count": 7,
   "metadata": {},
   "outputs": [
    {
     "data": {
      "text/plain": [
       "7.007"
      ]
     },
     "execution_count": 7,
     "metadata": {},
     "output_type": "execute_result"
    }
   ],
   "source": [
    "np.mean(reward_test)"
   ]
  },
  {
   "cell_type": "code",
   "execution_count": 8,
   "metadata": {},
   "outputs": [
    {
     "data": {
      "text/plain": [
       "(array([  1.,   4.,  15.,  70., 207., 397., 552., 441., 313.]),\n",
       " array([ 1.,  2.,  3.,  4.,  5.,  6.,  7.,  8.,  9., 10.]),\n",
       " <BarContainer object of 9 artists>)"
      ]
     },
     "execution_count": 8,
     "metadata": {},
     "output_type": "execute_result"
    },
    {
     "data": {
      "image/png": "[encoded data removed]",
      "text/plain": [
       "<Figure size 900x500 with 1 Axes>"
      ]
     },
     "metadata": {},
     "output_type": "display_data"
    }
   ],
   "source": [
    "plt.figure(figsize=(9,5))\n",
    "plt.xlabel(\"Reward\",fontsize=22)\n",
    "plt.ylabel(\"# Observations\",fontsize=22)\n",
    "plt.hist(reward_test,bins=9)"
   ]
  },
  {
   "attachments": {},
   "cell_type": "markdown",
   "metadata": {},
   "source": [
    "이제 greedy method를 구현해보자.  \n",
    "이를 위해서는 어떤 레버를 담겼고 보상이 어떤지 기록해야함.  \n",
    "가장 간단한 방법은 파이썬 리스트에 (레버 번호, 리워드) 형태의 튜플을 출가하는 것이다.  \n",
    "예를 들어 (2, 9)는 2번 레버를 당겨서 9달러의 상금을 얻었음을 뜻함"
   ]
  },
  {
   "attachments": {},
   "cell_type": "markdown",
   "metadata": {},
   "source": [
    "그런데 위와 같은 방법은 시행을 여러번 할 수록 길어진다.   \n",
    "간단하게 각 레버의 평균 리워드만 기억하면 된다."
   ]
  },
  {
   "cell_type": "code",
   "execution_count": 9,
   "metadata": {},
   "outputs": [
    {
     "data": {
      "text/plain": [
       "22"
      ]
     },
     "execution_count": 9,
     "metadata": {},
     "output_type": "execute_result"
    }
   ],
   "source": [
    "sum = 0\n",
    "x = [4, 5, 6, 7]\n",
    "\n",
    "for j in range(len(x)):\n",
    "    sum = sum + x[j]\n",
    "    \n",
    "sum"
   ]
  },
  {
   "attachments": {},
   "cell_type": "markdown",
   "metadata": {},
   "source": [
    "한 레버의 평균 보상을 구한 상태에서 그 레버를 다시 당겨서 새 리워드를 받았을 때 평균을 구하려면 간단하게 다음과 같이 구현하면 된다.  \n",
    "\n",
    "새 평균 = (k*평균 + 리워드) /(k + 1)"
   ]
  },
  {
   "attachments": {},
   "cell_type": "markdown",
   "metadata": {},
   "source": [
    "이제 레버가 총 10개라고 하면 다음과 같은 배열을 준비하면 된다."
   ]
  },
  {
   "cell_type": "code",
   "execution_count": 10,
   "metadata": {},
   "outputs": [
    {
     "data": {
      "text/plain": [
       "array([[0., 0.],\n",
       "       [0., 0.],\n",
       "       [0., 0.],\n",
       "       [0., 0.],\n",
       "       [0., 0.],\n",
       "       [0., 0.],\n",
       "       [0., 0.],\n",
       "       [0., 0.],\n",
       "       [0., 0.],\n",
       "       [0., 0.]])"
      ]
     },
     "execution_count": 10,
     "metadata": {},
     "output_type": "execute_result"
    }
   ],
   "source": [
    "record = np.zeros((n, 2))\n",
    "record"
   ]
  },
  {
   "attachments": {},
   "cell_type": "markdown",
   "metadata": {},
   "source": [
    "- 위에서 각 요소의 첫번째는 레버를 당긴 횟수이고, 두번째는 현재까지의 평균이다.  \n",
    "\n",
    "이제 새 액션과 리워드로 이 배열을 갱신하는 함수를 살펴보자."
   ]
  },
  {
   "cell_type": "code",
   "execution_count": 11,
   "metadata": {},
   "outputs": [],
   "source": [
    "def update_record(record, action, r):\n",
    "    new_r = (record[action, 0] * record[action, 1] + r) / (record[action, 0] + 1)\n",
    "    record[action, 0] += 1\n",
    "    record[action, 1] = new_r\n",
    "    return record"
   ]
  },
  {
   "cell_type": "code",
   "execution_count": 12,
   "metadata": {},
   "outputs": [],
   "source": [
    "def get_best_arm(record):\n",
    "    arm_index = np.argmax(record[:, 1], axis = 0)\n",
    "    return arm_index"
   ]
  },
  {
   "cell_type": "code",
   "execution_count": 13,
   "metadata": {},
   "outputs": [
    {
     "data": {
      "text/plain": [
       "<matplotlib.collections.PathCollection at 0x1342807c0>"
      ]
     },
     "execution_count": 13,
     "metadata": {},
     "output_type": "execute_result"
    },
    {
     "data": {
      "image/png": "[encoded data removed]",
      "text/plain": [
       "<Figure size 900x500 with 1 Axes>"
      ]
     },
     "metadata": {},
     "output_type": "display_data"
    }
   ],
   "source": [
    "fig, ax = plt.subplots(1, 1)\n",
    "ax.set_xlabel(\"Plays\")\n",
    "ax.set_ylabel(\"Avg Reward\")\n",
    "fig.set_size_inches(9, 5)\n",
    "\n",
    "record = np.zeros((n, 2))\n",
    "probs = np.random.rand(n)\n",
    "\n",
    "eps = 0.2\n",
    "rewards  = [0]\n",
    "\n",
    "for i in range(1000):\n",
    "    if random.random() > eps:\n",
    "        choice = get_best_arm(record)\n",
    "    else:\n",
    "        choice = np.random.randint(10)\n",
    "        \n",
    "    r = get_reward(probs[choice])\n",
    "    record =  update_record(record, choice, r)\n",
    "    mean_reward = ((i+1) * rewards[-1] + r)/(i+2)\n",
    "    rewards.append(mean_reward)\n",
    "\n",
    "ax.scatter(np.arange(len(rewards)),rewards)"
   ]
  },
  {
   "attachments": {},
   "cell_type": "markdown",
   "metadata": {},
   "source": [
    "소프트맥스 선택 정책 "
   ]
  },
  {
   "attachments": {},
   "cell_type": "markdown",
   "metadata": {},
   "source": [
    "다른 예를 살펴보자.    \n",
    "심장마비 치료를 하는 의사가 있다.   \n",
    "치료법은 10가지, 환자당 하나의 치료법만 적용가능하다.  \n",
    "열가지 치료법의 효능과 위험도는 다르며 의사는 어떤 것이 최고인지 알지 못한다.   \n",
    "\n",
    "앞의 슬롯머신 예와 비슷하지만 입실론 그리디 정책을 사용할 수 없다. 환자가 죽을 수도 있기 때문이다.  \n",
    "\n",
    "이때는 소프트맥스 선택 정책이 적합하다.   \n",
    "확률분포를 따져서 최악의 옵션을 피할 수 있다."
   ]
  },
  {
   "attachments": {},
   "cell_type": "markdown",
   "metadata": {},
   "source": [
    "$$Pr(A) = e^{Q_{k}(A)/\\tau}/sum(e^{Q_{k}(A)/\\tau})$$"
   ]
  },
  {
   "attachments": {},
   "cell_type": "markdown",
   "metadata": {},
   "source": [
    "확률의 비례계수로 작용하는 매개변수 $\\tau$를 temperature라고 한다.   \n",
    "tempr가 높으면 확률들이 서로 비슷해지고, 낮으면 차이가 커진다.  \n",
    "이 매개변수는 초기치를 선택한 후 시행착오를 거쳐 조율해 나가야 한다."
   ]
  },
  {
   "cell_type": "code",
   "execution_count": 14,
   "metadata": {},
   "outputs": [],
   "source": [
    "def softmax(av, tau = 1.12):\n",
    "    softm = (np.exp(av / tau)/ np.sum(np.exp(av/ tau)))\n",
    "    return softm"
   ]
  },
  {
   "cell_type": "code",
   "execution_count": 15,
   "metadata": {},
   "outputs": [
    {
     "data": {
      "text/plain": [
       "10"
      ]
     },
     "execution_count": 15,
     "metadata": {},
     "output_type": "execute_result"
    }
   ],
   "source": [
    "n"
   ]
  },
  {
   "attachments": {},
   "cell_type": "markdown",
   "metadata": {},
   "source": [
    "슬롯머신 문제에서 softmax를 적용한다면 get_best_arm 함수는 필요 없다.  \n",
    "softmax가 모든 가능한 액션의 확률 분포를 리턴하므로 확률에 따라 무작위로 동작을 선액하면 된다.  \n",
    "최선의 동작은 확률이 가장 높으므로 많이 선택 될 것이다."
   ]
  },
  {
   "attachments": {},
   "cell_type": "markdown",
   "metadata": {},
   "source": [
    "해법 구현하는 방법을 알아보자.   \n",
    "각 시행에서 해법은 softmax 함수를 record 배열의 제2열에 적용한다.  \n",
    "각 항목의 둘째 수치가 action의 평균 보상이다.    \n",
    "\n",
    "그다음에 numpy의 random.choice 함수를 사용해서 확률 분포에 따라 선택한다.   \n",
    "최기에는 record 배열의 모든 항목이 0 이므로 softmax는 레버의 모든 선택확률이 동일한 균등 분포를 리턴한다.  \n",
    "그러나 시간이 반복됨에 따라 보상이 클수록 확률이 높은 확률 분포를 리턴한다."
   ]
  },
  {
   "cell_type": "code",
   "execution_count": 16,
   "metadata": {},
   "outputs": [
    {
     "data": {
      "text/plain": [
       "array([0, 1, 2, 3, 4, 5, 6, 7, 8, 9])"
      ]
     },
     "execution_count": 16,
     "metadata": {},
     "output_type": "execute_result"
    }
   ],
   "source": [
    "x = np.arange(10)\n",
    "x"
   ]
  },
  {
   "cell_type": "code",
   "execution_count": 17,
   "metadata": {},
   "outputs": [
    {
     "data": {
      "text/plain": [
       "array([0., 0., 0., 0., 0., 0., 0., 0., 0., 0.])"
      ]
     },
     "execution_count": 17,
     "metadata": {},
     "output_type": "execute_result"
    }
   ],
   "source": [
    "av = np.zeros(10)\n",
    "av"
   ]
  },
  {
   "cell_type": "code",
   "execution_count": 18,
   "metadata": {},
   "outputs": [
    {
     "data": {
      "text/plain": [
       "array([0.1, 0.1, 0.1, 0.1, 0.1, 0.1, 0.1, 0.1, 0.1, 0.1])"
      ]
     },
     "execution_count": 18,
     "metadata": {},
     "output_type": "execute_result"
    }
   ],
   "source": [
    "p = softmax(av)\n",
    "p"
   ]
  },
  {
   "cell_type": "code",
   "execution_count": 19,
   "metadata": {},
   "outputs": [
    {
     "data": {
      "text/plain": [
       "0"
      ]
     },
     "execution_count": 19,
     "metadata": {},
     "output_type": "execute_result"
    }
   ],
   "source": [
    "np.random.choice(x, p = p)"
   ]
  },
  {
   "attachments": {},
   "cell_type": "markdown",
   "metadata": {},
   "source": [
    "다음은 소프트맥스를 사용한 해법이다. (다시 볼것)"
   ]
  },
  {
   "cell_type": "code",
   "execution_count": 20,
   "metadata": {},
   "outputs": [
    {
     "data": {
      "text/plain": [
       "<matplotlib.collections.PathCollection at 0x1341f1850>"
      ]
     },
     "execution_count": 20,
     "metadata": {},
     "output_type": "execute_result"
    },
    {
     "data": {
      "image/png": "[encoded data removed]",
      "text/plain": [
       "<Figure size 900x500 with 1 Axes>"
      ]
     },
     "metadata": {},
     "output_type": "display_data"
    }
   ],
   "source": [
    "fig,ax = plt.subplots(1,1)\n",
    "ax.set_xlabel(\"Plays\")\n",
    "ax.set_ylabel(\"Avg Reward\")\n",
    "fig.set_size_inches(9,5)\n",
    "rewards = [0]\n",
    "for i in range(500):\n",
    "    p = softmax(record[:,1],tau=0.7)\n",
    "    choice = np.random.choice(np.arange(n),p=p)\n",
    "    r = get_reward(probs[choice])\n",
    "    record = update_record(record,choice,r)\n",
    "    mean_reward = ((i+1) * rewards[-1] + r)/(i+2)\n",
    "    rewards.append(mean_reward)\n",
    "ax.scatter(np.arange(len(rewards)),rewards)"
   ]
  },
  {
   "attachments": {},
   "cell_type": "markdown",
   "metadata": {},
   "source": [
    "### 2.3 슬롯머신 예제를 광고 배치 최적화에 적용"
   ]
  },
  {
   "attachments": {},
   "cell_type": "markdown",
   "metadata": {},
   "source": [
    "광고 배치 최적화 : 사용자가 웹사이트의 광고를 클릭할 확률이 최대화되도록 광고를 선택하는 것   \n",
    "\n",
    "예를 들어 컴퓨터, 신발, 장신구와 같은 다른 범주의 소매품을 파는 사이트 10개를 운영한다고 하자.   \n",
    "전체 판매 촉진을 위해, 한 사이트에 접속한 고객에게 그 고객이 관심을 둘만한 다른 범주의 상품을 파는 다른 사이트 광고를 배치하고자 한다.   \n",
    "또는 현재 사이트에서 파는 다른 상품 광고를 배치할 수도 있다.   \n",
    "\n",
    "무작위보다는 효과적일 것이다."
   ]
  },
  {
   "attachments": {},
   "cell_type": "markdown",
   "metadata": {},
   "source": [
    "### 2.4 파이토치로 신경망 만들기"
   ]
  },
  {
   "attachments": {},
   "cell_type": "markdown",
   "metadata": {},
   "source": [
    "### 2.5 문맥적 강도 문제의 해법"
   ]
  },
  {
   "attachments": {},
   "cell_type": "markdown",
   "metadata": {},
   "source": [
    "- 이제 알고리즘을 위한 시뮬레이션 환경을 살펴보자.  \n",
    "- 10가지 쇼핑몰 사이트에 대응하는 0~9까지의 상태와 보상(광고 클릭), 그리고 10가지 중 하나를 선택하는 action으로 되어 있다."
   ]
  },
  {
   "cell_type": "code",
   "execution_count": 21,
   "metadata": {},
   "outputs": [],
   "source": [
    "class ContextBandit:\n",
    "    def __init__(self, arms = 10):\n",
    "        self.arms = arms\n",
    "        self.init_distribution(arms)\n",
    "        self.update_state()\n",
    "        \n",
    "    def init_distribution(self, arms):\n",
    "        self.bandit_matrix = np.random.rand(arms, arms) # row: state, column 레버(액션)\n",
    "        \n",
    "    def reward(self, prob):\n",
    "        reward = 0\n",
    "        for i in range(self.arms):\n",
    "            if random.random() < prob:\n",
    "                reward += 1\n",
    "        return reward\n",
    "    \n",
    "    def get_state(self):\n",
    "        return self.state\n",
    "    \n",
    "    def update_state(self):\n",
    "        self.state = np.random.randint(0,self.arms)\n",
    "        \n",
    "    def get_reward(self,arm):\n",
    "        return self.reward(self.bandit_matrix[self.get_state()][arm])\n",
    "        \n",
    "    def choose_arm(self, arm): # 선택된 레버에 대한 리워드를 구하고 상태를 업데이트 한다.(다음 상태)\n",
    "        reward = self.get_reward(arm)\n",
    "        self.update_state()\n",
    "        return reward"
   ]
  },
  {
   "cell_type": "code",
   "execution_count": 22,
   "metadata": {},
   "outputs": [],
   "source": [
    "env = ContextBandit(arms = 10)\n",
    "state = env.get_state()\n",
    "reward = env.choose_arm(1)"
   ]
  },
  {
   "cell_type": "code",
   "execution_count": 23,
   "metadata": {},
   "outputs": [
    {
     "name": "stdout",
     "output_type": "stream",
     "text": [
      "9\n",
      "10\n"
     ]
    }
   ],
   "source": [
    "print(state)\n",
    "print(reward)"
   ]
  },
  {
   "attachments": {},
   "cell_type": "markdown",
   "metadata": {},
   "source": [
    "- 여기서는 단순함을 위해 상태 공간과 액션 공간이 같도록 했지만 상태공간이 훨씬 클 때가 많다.  "
   ]
  },
  {
   "attachments": {},
   "cell_type": "markdown",
   "metadata": {},
   "source": []
  }
 ],
 "metadata": {
  "kernelspec": {
   "display_name": "gym",
   "language": "python",
   "name": "python3"
  },
  "language_info": {
   "codemirror_mode": {
    "name": "ipython",
    "version": 3
   },
   "file_extension": ".py",
   "mimetype": "text/x-python",
   "name": "python",
   "nbconvert_exporter": "python",
   "pygments_lexer": "ipython3",
   "version": "3.9.16"
  },
  "orig_nbformat": 4
 },
 "nbformat": 4,
 "nbformat_minor": 2
}
